{
 "cells": [
  {
   "cell_type": "code",
   "execution_count": 1,
   "metadata": {},
   "outputs": [
    {
     "name": "stdout",
     "output_type": "stream",
     "text": [
      "['20MICRONS', '21STCENMGM', '3IINFOTECH', '3MINDIA', '3PLAND', '5PAISA', '63MOONS', 'A2ZINFRA', 'AARTIDRUGS', 'AARTIIND', 'AARVEEDEN', 'AAVAS', 'ABAN', 'ABB', 'ABBOTINDIA', 'ABCAPITAL', 'ABFRL', 'ABMINTLTD', 'ACC', 'ACCELYA', 'ACE', 'ADANIENT', 'ADANIGAS', 'ADANIGREEN', 'ADANIPORTS', 'ADANIPOWER', 'ADANITRANS', 'ADFFOODS', 'ADHUNIK', 'ADHUNIKIND', 'ADLABS', 'ADORWELD', 'ADROITINFO', 'ADSL', 'ADVANIHOTR', 'ADVENZYMES', 'AEGISCHEM', 'AFFLE', 'AGARIND', 'AGCNET', 'AGRITECH', 'AGROPHOS', 'AHLEAST', 'AHLUCONT', 'AHLWEST', 'AIAENG', 'AIONJSW', 'AIRAN', 'AJANTPHARM', 'AJMERA', 'AKASH', 'AKSHARCHEM', 'AKSHOPTFBR', 'AKZOINDIA', 'ALANKIT', 'ALBERTDAVD', 'ALBK', 'ALCHEM', 'ALEMBICLTD', 'ALICON', 'ALKALI', 'ALKEM', 'ALKYLAMINE', 'ALLCARGO', 'ALLSEC', 'ALMONDZ', 'ALOKTEXT', 'ALPA', 'ALPHAGEO', 'ALPSINDUS', 'AMARAJABAT', 'AMBER', 'AMBIKCO', 'AMBUJACEM', 'AMDIND', 'AMJLAND', 'AMRUTANJAN', 'ANANTRAJ', 'ANDHRABANK', 'ANDHRACEMT', 'ANDHRSUGAR', 'ANIKINDS', 'ANKITMETAL', 'ANSALAPI', 'ANSALHSG', 'ANTGRAPHIC', 'ANUP', 'APARINDS', 'APCL', 'APCOTEXIND', 'APEX', 'APLAPOLLO', 'APLLTD', 'APOLLO', 'APOLLOHOSP', 'APOLLOPIPE', 'APOLLOTYRE', 'APOLSINHOT', 'APTECHT', 'ARCHIDPLY', 'ARCHIES', 'ARCOTECH', 'ARENTERP', 'ARIES', 'ARIHANT', 'ARIHANTSUP', 'ARMANFIN', 'AROGRANITE', 'ARROWGREEN', 'ARROWTEX', 'ARSHIYA', 'ARSSINFRA', 'ARVIND', 'ARVINDFASN', 'ARVSMART', 'ASAHIINDIA', 'ASAHISONG', 'ASAL', 'ASHAPURMIN', 'ASHIANA', 'ASHIMASYN', 'ASHOKA', 'ASHOKLEY', 'ASIANHOTNR', 'ASIANPAINT', 'ASIANTILES', 'ASPINWALL', 'ASTEC', 'ASTERDM', 'ASTRAL', 'ASTRAMICRO', 'ASTRAZEN', 'ASTRON', 'ATFL', 'ATLANTA', 'ATLASCYCLE', 'ATUL', 'ATULAUTO', 'AUBANK', 'AURIONPRO', 'AUROPHARMA', 'AUSOMENT', 'AUTOAXLES', 'AUTOIND', 'AUTOLITIND', 'AVADHSUGAR', 'AVANTIFEED', 'AVTNPL', 'AXISBANK', 'AXISCADES', 'AYMSYNTEX', 'BAGFILMS', 'BAJAJ-AUTO', 'BAJAJCON', 'BAJAJELEC', 'BAJAJFINSV', 'BAJAJHIND', 'BAJAJHLDNG', 'BAJFINANCE', 'BALAJITELE', 'BALAMINES', 'BALAXI', 'BALKRISHNA', 'BALKRISIND', 'BALLARPUR', 'BALMLAWRIE', 'BALPHARMA', 'BALRAMCHIN', 'BANARBEADS', 'BANARISUG', 'BANCOINDIA', 'BANDHANBNK', 'BANG', 'BANKBARODA', 'BANKINDIA', 'BANSWRAS', 'BARTRONICS', 'BASF', 'BASML', 'BATAINDIA', 'BAYERCROP', 'BBL', 'BBTC', 'BCG', 'BCP', 'BDL', 'BEARDSELL', 'BEDMUTHA', 'BEL', 'BEML', 'BEPL', 'BERGEPAINT', 'BFINVEST', 'BFUTILITIE', 'BGLOBAL', 'BGRENERGY', 'BHAGERIA', 'BHAGYANGR', 'BHAGYAPROP', 'BHANDARI', 'BHARATFORG', 'BHARATGEAR', 'BHARATRAS', 'BHARATWIRE', 'BHARTIARTL', 'BHEL', 'BIGBLOC', 'BIL', 'BILENERGY', 'BINDALAGRO', 'BIOCON', 'BIOFILCHEM', 'BIRLACABLE', 'BIRLACORPN', 'BIRLAMONEY', 'BKMINDST', 'BLBLIMITED', 'BLISSGVS', 'BLKASHYAP', 'BLS', 'BLUEBLENDS', 'BLUECOAST', 'BLUEDART', 'BLUESTARCO', 'BODALCHEM', 'BOMDYEING', 'BOROSIL', 'BOSCHLTD', 'BPCL', 'BPL', 'BRFL', 'BRIGADE', 'BRITANNIA', 'BRNL', 'BROOKS', 'BSE', 'BSELINFRA', 'BSL', 'BSOFT', 'BURNPUR', 'BUTTERFLY', 'BVCL', 'BYKE', 'CADILAHC', 'CALSOFT', 'CAMLINFINE', 'CANBK', 'CANDC', 'CANFINHOME', 'CANTABIL', 'CAPACITE', 'CAPLIPOINT', 'CAPTRUST', 'CARBORUNIV', 'CAREERP', 'CARERATING', 'CASTEXTECH', 'CASTROLIND', 'CCHHL', 'CCL', 'CDSL', 'CEATLTD', 'CEBBCO', 'CELEBRITY', 'CELESTIAL', 'CENTENKA', 'CENTEXT', 'CENTRALBK', 'CENTRUM', 'CENTUM', 'CENTURYPLY', 'CENTURYTEX', 'CERA', 'CEREBRAINT', 'CESC', 'CESCVENT', 'CGCL', 'CGPOWER', 'CHALET', 'CHAMBLFERT', 'CHEMFAB', 'CHENNPETRO', 'CHOLAFIN', 'CHOLAHLDNG', 'CHROMATIC', 'CIGNITITEC', 'CIMMCO', 'CINELINE', 'CINEVISTA', 'CIPLA', 'CKFSL', 'CLEDUCATE', 'CLNINDIA', 'CMICABLES', 'CNOVAPETRO', 'COALINDIA', 'COCHINSHIP', 'COFFEEDAY', 'COLPAL', 'COMPINFO', 'COMPUSOFT', 'CONCOR', 'CONFIPET', 'CONSOFINVT', 'CONTROLPR', 'CORALFINAC', 'CORDSCABLE', 'COROMANDEL', 'CORPBANK', 'COSMOFILMS', 'COUNCODOS', 'COX&KINGS', 'CREATIVE', 'CREATIVEYE', 'CREDITACC', 'CREST', 'CRISIL', 'CROMPTON', 'CTE', 'CUB', 'CUBEXTUB', 'CUMMINSIND', 'CUPID', 'CURATECH', 'CYBERMEDIA', 'CYBERTECH', 'CYIENT', 'DAAWAT', 'DABUR', 'DALBHARAT', 'DALMIASUG', 'DAMODARIND', 'DATAMATICS', 'DBCORP', 'DBL', 'DBREALTY', 'DBSTOCKBRO', 'DCAL', 'DCBBANK', 'DCM', 'DCMFINSERV', 'DCMNVL', 'DCMSHRIRAM', 'DCW', 'DECCANCE', 'DEEPAKFERT', 'DEEPAKNTR', 'DEEPIND', 'DELTACORP', 'DELTAMAGNT', 'DEN', 'DENORA', 'DFMFOODS', 'DGCONTENT', 'DHAMPURSUG', 'DHANBANK', 'DHANUKA', 'DHARSUGAR', 'DHFL', 'DHUNINV', 'DIAMONDYD', 'DIAPOWER', 'DICIND', 'DIGISPICE', 'DIGJAMLTD', 'DISHTV', 'DIVISLAB', 'DIXON', 'DLF', 'DLINKINDIA', 'DMART', 'DNAMEDIA', 'DOLAT', 'DOLLAR', 'DONEAR', 'DPSCLTD', 'DQE', 'DREDGECORP', 'DRREDDY', 'DSSL', 'DTIL', 'DUCON', 'DVL', 'DWARKESH', 'DYNAMATECH', 'DYNPRO', 'EASTSILK', 'EASUNREYRL', 'ECLERX', 'EDELWEISS', 'EDL', 'EDUCOMP', 'EICHERMOT', 'EIDPARRY', 'EIHAHOTELS', 'EIHOTEL', 'EIMCOELECO', 'EKC', 'ELECON', 'ELECTCAST', 'ELECTHERM', 'ELGIEQUIP', 'ELGIRUBCO', 'EMAMILTD', 'EMAMIPAP', 'EMAMIREAL', 'EMCO', 'EMKAY', 'EMMBI', 'ENDURANCE', 'ENERGYDEV', 'ENGINERSIN', 'ENIL', 'EON', 'EQUITAS', 'ERIS', 'EROSMEDIA', 'ESABINDIA', 'ESCORTS', 'ESSARSHPNG', 'ESSELPACK', 'ESTER', 'EUROCERA', 'EUROMULTI', 'EUROTEXIND', 'EVEREADY', 'EVERESTIND', 'EXCEL', 'EXCELINDUS', 'EXIDEIND', 'EXPLEOSOL', 'FACT', 'FAIRCHEM', 'FCL', 'FCONSUMER', 'FCSSOFT', 'FDC', 'FEDERALBNK', 'FEL', 'FELDVR', 'FIEMIND', 'FILATEX', 'FINCABLES', 'FINEORG', 'FINPIPE', 'FLEXITUFF', 'FLFL', 'FLUOROCHEM', 'FMGOETZE', 'FMNL', 'FORCEMOT', 'FORTIS', 'FOSECOIND', 'FRETAIL', 'FSC', 'FSL', 'GABRIEL', 'GAEL', 'GAIL', 'GAL', 'GALAXYSURF', 'GALLANTT', 'GALLISPAT', 'GAMMNINFRA', 'GANDHITUBE', 'GANECOS', 'GANESHHOUC', 'GANGESSECU', 'GANGOTRI', 'GARDENSILK', 'GARFIBRES', 'GATI', 'GAYAHWS', 'GAYAPROJ', 'GDL', 'GEECEE', 'GENESYS', 'GENUSPAPER', 'GENUSPOWER', 'GEOJITFSL', 'GEPIL', 'GESHIP', 'GET&D', 'GFLLIMITED', 'GHCL', 'GICHSGFIN', 'GICRE', 'GILLANDERS', 'GILLETTE', 'GINNIFILA', 'GIPCL', 'GISOLUTION', 'GKWLIMITED', 'GLAXO', 'GLENMARK', 'GLFL', 'GLOBALVECT', 'GLOBOFFS', 'GLOBUSSPR', 'GMBREW', 'GMDCLTD', 'GMMPFAUDLR', 'GMRINFRA', 'GNA', 'GNFC', 'GOACARBON', 'GOCLCORP', 'GODFRYPHLP', 'GODREJAGRO', 'GODREJCP', 'GODREJIND', 'GODREJPROP', 'GOENKA', 'GOKEX', 'GOKUL', 'GOKULAGRO', 'GOLDENTOBC', 'GOLDIAM', 'GOLDTECH', 'GOODLUCK', 'GPIL', 'GPPL', 'GPTINFRA', 'GRANULES', 'GRAPHITE', 'GRASIM', 'GRAVITA', 'GREAVESCOT', 'GREENLAM', 'GREENPANEL', 'GREENPLY', 'GREENPOWER', 'GRINDWELL', 'GROBTEA', 'GRPLTD', 'GRSE', 'GSCLCEMENT', 'GSFC', 'GSKCONS', 'GSPL', 'GSS', 'GTL', 'GTLINFRA', 'GTNIND', 'GTNTEX', 'GTPL', 'GUFICBIO', 'GUJALKALI', 'GUJAPOLLO', 'GUJGASLTD', 'GUJRAFFIA', 'GULFOILLUB', 'GULFPETRO', 'GULPOLY', 'GVKPIL', 'HAL', 'HARITASEAT', 'HARRMALAYA', 'HATHWAY', 'HATSUN', 'HAVELLS', 'HAVISHA', 'HBLPOWER', 'HBSL', 'HCC', 'HCG', 'HCL-INSYS', 'HCLTECH', 'HDFC', 'HDFCAMC', 'HDFCBANK', 'HDFCLIFE', 'HDIL', 'HEG', 'HEIDELBERG', 'HERCULES', 'HERITGFOOD', 'HEROMOTOCO', 'HESTERBIO', 'HEXATRADEX', 'HEXAWARE', 'HFCL', 'HGINFRA', 'HGS', 'HIKAL', 'HIL', 'HILTON', 'HIMATSEIDE', 'HINDALCO', 'HINDCOMPOS', 'HINDCOPPER', 'HINDMOTORS', 'HINDNATGLS', 'HINDOILEXP', 'HINDPETRO', 'HINDSYNTEX', 'HINDUNILVR', 'HINDZINC', 'HIRECT', 'HISARMETAL', 'HITECH', 'HITECHCORP', 'HITECHGEAR', 'HMT', 'HMVL', 'HNDFDS', 'HONAUT', 'HONDAPOWER', 'HOTELEELA', 'HOTELRUGBY', 'HOVS', 'HPL', 'HSCL', 'HSIL', 'HTMEDIA', 'HUBTOWN', 'HUDCO', 'IBREALEST', 'IBULHSGFIN', 'IBULISL', 'IBVENTURES', 'ICICIBANK', 'ICICIGI', 'ICICIPRULI', 'ICIL', 'ICRA', 'IDBI', 'IDEA', 'IDFC', 'IDFCFIRSTB', 'IEX', 'IFBAGRO', 'IFBIND', 'IFCI', 'IFGLEXPOR', 'IGARASHI', 'IGL', 'IGPL', 'IIFL', 'IIFLSEC', 'IIFLWAM', 'IITL', 'IL&FSENGG', 'IL&FSTRANS', 'IMFA', 'IMPAL', 'IMPEXFERRO', 'INDBANK', 'INDHOTEL', 'INDIACEM', 'INDIAGLYCO', 'INDIAMART', 'INDIANB', 'INDIANCARD', 'INDIANHUME', 'INDIGO', 'INDLMETER', 'INDNIPPON', 'INDOCO', 'INDORAMA', 'INDOSOLAR', 'INDOSTAR', 'INDOTECH', 'INDOTHAI', 'INDOWIND', 'INDRAMEDCO', 'INDSWFTLAB', 'INDSWFTLTD', 'INDTERRAIN', 'INDUSINDBK', 'INEOSSTYRO', 'INFIBEAM', 'INFOBEAN', 'INFRATEL', 'INFY', 'INGERRAND', 'INOXLEISUR', 'INOXWIND', 'INSECTICID', 'INSPIRISYS', 'INTEGRA', 'INTELLECT', 'INTENTECH', 'INVENTURE', 'IOB', 'IOC', 'IOLCP', 'IPAPPM', 'IPCALAB', 'IRB', 'IRCON', 'IRCTC', 'ISEC', 'ISFT', 'ISMTLTD', 'ITC', 'ITDC', 'ITDCEM', 'ITI', 'IVC', 'IVP', 'IVRCLINFRA', 'IZMO', 'J&KBANK', 'JAGRAN', 'JAGSNPHARM', 'JAIBALAJI', 'JAICORPLTD', 'JAIHINDPRO', 'JAINSTUDIO', 'JAMNAAUTO', 'JASH', 'JAYAGROGN', 'JAYBARMARU', 'JAYNECOIND', 'JAYSREETEA', 'JBCHEPHARM', 'JBFIND', 'JBMA', 'JCHAC', 'JETAIRWAYS', 'JHS', 'JIKIND', 'JINDALPHOT', 'JINDALPOLY', 'JINDALSAW', 'JINDALSTEL', 'JINDCOT', 'JINDRILL', 'JINDWORLD', 'JISLDVREQS', 'JISLJALEQS', 'JITFINFRA', 'JIYAECO', 'JKCEMENT', 'JKIL', 'JKLAKSHMI', 'JKPAPER', 'JKTYRE', 'JMA', 'JMCPROJECT', 'JMFINANCIL', 'JMTAUTOLTD', 'JOCIL', 'JPASSOCIAT', 'JPINFRATEC', 'JPOLYINVST', 'JPPOWER', 'JSL', 'JSLHISAR', 'JSWENERGY', 'JSWHL', 'JSWSTEEL', 'JTEKTINDIA', 'JUBILANT', 'JUBLFOOD', 'JUBLINDS', 'JUMPNET', 'JUSTDIAL', 'JVLAGRO', 'JYOTHYLAB', 'KABRAEXTRU', 'KAJARIACER', 'KAKATCEM', 'KALPATPOWR', 'KALYANI', 'KALYANIFRG', 'KAMATHOTEL', 'KAMDHENU', 'KANANIIND', 'KANORICHEM', 'KANSAINER', 'KARDA', 'KARMAENG', 'KARURVYSYA', 'KAUSHALYA', 'KAVVERITEL', 'KAYA', 'KCP', 'KCPSUGIND', 'KDDL', 'KEC', 'KECL', 'KEI', 'KELLTONTEC', 'KENNAMET', 'KERNEX', 'KESARENT', 'KESORAMIND', 'KEYFINSERV', 'KGL', 'KHADIM', 'KHAITANLTD', 'KHANDSE', 'KICL', 'KILITCH', 'KINGFA', 'KIOCL', 'KIRIINDUS', 'KIRLOSBROS', 'KIRLOSENG', 'KIRLOSIND', 'KITEX', 'KKCL', 'KMSUGAR', 'KNRCON', 'KOHINOOR', 'KOKUYOCMLN', 'KOLTEPATIL', 'KOPRAN', 'KOTAKBANK', 'KOTARISUG', 'KOTHARIPET', 'KOTHARIPRO', 'KPITTECH', 'KPRMILL', 'KRBL', 'KREBSBIO', 'KRIDHANINF', 'KRISHANA', 'KSB', 'KSCL', 'KSERASERA', 'KSK', 'KSL', 'KTIL', 'KTKBANK', 'KUANTUM', 'KWALITY', 'L&TFH', 'LAKPRE', 'LAKSHVILAS', 'LALPATHLAB', 'LAMBODHARA', 'LAOPALA', 'LASA', 'LAURUSLABS', 'LAXMIMACH', 'LEMONTREE', 'LFIC', 'LGBBROSLTD', 'LGBFORGE', 'LIBAS', 'LIBAS', 'LIBERTSHOE', 'LICHSGFIN', 'LINCOLN', 'LINCPEN', 'LINDEINDIA', 'LOKESHMACH', 'LOTUSEYE', 'LOVABLE', 'LPDC', 'LSIL', 'LT', 'LTI', 'LTTS', 'LUMAXIND', 'LUMAXTECH', 'LUPIN', 'LUXIND', 'LYKALABS', 'LYPSAGEMS', 'M&M', 'M&MFIN', 'MAANALU', 'MADHAV', 'MADHUCON', 'MADRASFERT', 'MAGADSUGAR', 'MAGMA', 'MAGNUM', 'MAHABANK', 'MAHAPEXLTD', 'MAHASTEEL', 'MAHESHWARI', 'MAHINDCIE', 'MAHLIFE', 'MAHLOG', 'MAHSCOOTER', 'MAHSEAMLES', 'MAITHANALL', 'MAJESCO', 'MALUPAPER', 'MANAKALUCO', 'MANAKCOAT', 'MANAKSIA', 'MANAKSTEEL', 'MANALIPETC', 'MANAPPURAM', 'MANGALAM', 'MANGCHEFER', 'MANGLMCEM', 'MANGTIMBER', 'MANINDS', 'MANINFRA', 'MANPASAND', 'MANUGRAPH', 'MARALOVER', 'MARATHON', 'MARICO', 'MARKSANS', 'MARUTI', 'MASFIN', 'MASKINVEST', 'MASTEK', 'MATRIMONY', 'MAWANASUG', 'MAXINDIA', 'MAXVIL', 'MAYURUNIQ', 'MAZDA', 'MBAPL', 'MBECL', 'MBLINFRA', 'MCDHOLDING', 'MCDOWELL-N', 'MCLEODRUSS', 'MCX', 'MEGASOFT', 'MEGH', 'MELSTAR', 'MENONBE', 'MEP', 'MERCATOR', 'METALFORGE', 'METKORE', 'METROPOLIS', 'MFSL', 'MGL', 'MHRIL', 'MIC', 'MIDHANI', 'MINDACORP', 'MINDAIND', 'MINDTECK', 'MINDTREE', 'MIRCELECTR', 'MIRZAINT', 'MMFL', 'MMTC', 'MODIRUBBER', 'MOHITIND', 'MOHOTAIND', 'MOIL', 'MOLDTECH', 'MOLDTKPAC', 'MONTECARLO', 'MORARJEE', 'MOREPENLAB', 'MOTHERSUMI', 'MOTILALOFS', 'MOTOGENFIN', 'MPHASIS', 'MPSLTD', 'MRF', 'MRO-TEK', 'MRPL', 'MSPL', 'MSTCLTD', 'MTEDUCARE', 'MTNL', 'MUKANDENGG', 'MUKANDLTD', 'MUKTAARTS', 'MUNJALAU', 'MUNJALSHOW', 'MURUDCERA', 'MUTHOOTCAP', 'MUTHOOTFIN', 'MVL', 'NACLIND', 'NAGAFERT', 'NAGAROIL', 'NAGREEKCAP', 'NAGREEKEXP', 'NAHARCAP', 'NAHARINDUS', 'NAHARPOLY', 'NAHARSPING', 'NATCOPHARM', 'NATHBIOGEN', 'NATIONALUM', 'NATNLSTEEL', 'NAUKRI', 'NAVINFLUOR', 'NAVKARCORP', 'NAVNETEDUL', 'NBCC', 'NBIFIN', 'NBVENTURES', 'NCC', 'NCLIND', 'NDGL', 'NDL', 'NDTV', 'NECCLTD', 'NECLIFE', 'NELCAST', 'NELCO', 'NEOGEN', 'NESCO', 'NESTLEIND', 'NETWORK18', 'NEULANDLAB', 'NEWGEN', 'NEXTMEDIA', 'NFL', 'NH', 'NHPC', 'NIACL', 'NIBL', 'NIITLTD', 'NIITTECH', 'NILAINFRA', 'NILASPACES', 'NILKAMAL', 'NIPPOBATRY', 'NIRAJISPAT', 'NITCO', 'NITINFIRE', 'NITINSPIN', 'NKIND', 'NLCINDIA', 'NMDC', 'NOCIL', 'NOIDATOLL', 'NORBTEAEXP', 'NRAIL', 'NRBBEARING', 'NSIL', 'NTL', 'NTPC', 'NUCLEUS', 'NXTDIGITAL', 'OAL', 'OBEROIRLTY', 'OCCL', 'OFSS', 'OIL', 'OILCOUNTUB', 'OISL', 'OLECTRA', 'OMAXAUTO', 'OMAXE', 'OMKARCHEM', 'OMMETALS', 'ONELIFECAP', 'ONEPOINT', 'ONGC', 'ONMOBILE', 'ONWARDTEC', 'OPTIEMUS', 'OPTOCIRCUI', 'ORBTEXP', 'ORICONENT', 'ORIENTABRA', 'ORIENTALTL', 'ORIENTBANK', 'ORIENTBELL', 'ORIENTCEM', 'ORIENTELEC', 'ORIENTHOT', 'ORIENTLTD', 'ORIENTPPR', 'ORIENTREF', 'ORISSAMINE', 'ORTEL', 'ORTINLABSS', 'OSWALAGRO', 'PAEL', 'PAGEIND', 'PAISALO', 'PALASHSECU', 'PALREDTEC', 'PANACEABIO', 'PANAMAPET', 'PAPERPROD', 'PARABDRUGS', 'PARACABLES', 'PARAGMILK', 'PARSVNATH', 'PATELENG', 'PATINTLOG', 'PATSPINLTD', 'PCJEWELLER', 'PDMJEPAPER', 'PDPL', 'PDSMFL', 'PEARLPOLY', 'PEL', 'PENIND', 'PENINLAND', 'PERSISTENT', 'PETRONENGG', 'PETRONET', 'PFC', 'PFIZER', 'PFOCUS', 'PFS', 'PGEL', 'PGHH', 'PGHL', 'PGIL', 'PHILIPCARB', 'PHOENIXLTD', 'PIDILITIND', 'PIIND', 'PILANIINVS', 'PILITA', 'PIONDIST', 'PIONEEREMB', 'PIRPHYTO', 'PITTIENG', 'PKTEA', 'PLASTIBLEN', 'PNB', 'PNBGILTS', 'PNBHOUSING', 'PNC', 'PNCINFRA', 'PODDARHOUS', 'PODDARMENT', 'POKARNA', 'POLYCAB', 'POLYMED', 'POLYPLEX', 'PONNIERODE', 'POWERGRID', 'POWERMECH', 'PPAP', 'PPL', 'PRABHAT', 'PRADIP', 'PRAENG', 'PRAJIND', 'PRAKASH', 'PRAKASHSTL', 'PRAXIS', 'PRECAM', 'PRECOT', 'PRECWIRE', 'PREMEXPLN', 'PREMIER', 'PREMIERPOL', 'PRESSMN', 'PRESTIGE', 'PRICOLLTD', 'PRIMESECU', 'PROSEED', 'PROVOGE', 'PROZONINTU', 'PRSMJOHNSN', 'PSB', 'PSL', 'PSPPROJECT', 'PTC', 'PTL', 'PUNJABCHEM', 'PUNJLLOYD', 'PURVA', 'PVR', 'QUESS', 'QUICKHEAL', 'RADAAN', 'RADICO', 'RADIOCITY', 'RAIN', 'RAJESHEXPO', 'RAJRAYON', 'RAJSREESUG', 'RAJTV', 'RAJVIR', 'RALLIS', 'RAMANEWS', 'RAMASTEEL', 'RAMCOCEM', 'RAMCOIND', 'RAMCOSYS', 'RAMKY', 'RAMSARUP', 'RANASUG', 'RANEENGINE', 'RANEHOLDIN', 'RATNAMANI', 'RAYMOND', 'RBL', 'RBLBANK', 'RCF', 'RCOM', 'RECLTD', 'REDINGTON', 'REFEX', 'REGENCERAM', 'RELAXO', 'RELCAPITAL', 'RELIANCE', 'RELIGARE', 'RELINFRA', 'REMSONSIND', 'RENUKA', 'REPCOHOME', 'REPRO', 'RESPONIND', 'REVATHI', 'RGL', 'RHFL', 'RICOAUTO', 'RIIL', 'RITES', 'RKDL', 'RKFORGE', 'RMCL', 'RML', 'RNAM', 'RNAVAL', 'ROHITFERRO', 'ROHLTD', 'ROLLT', 'ROLTA', 'ROSSELLIND', 'RPGLIFE', 'RPOWER', 'RPPINFRA', 'RSSOFTWARE', 'RSWM', 'RSYSTEMS', 'RTNINFRA', 'RTNPOWER', 'RUBYMILLS', 'RUCHINFRA', 'RUCHIRA', 'RUCHISOYA', 'RUPA', 'RUSHIL', 'RVNL', 'SABEVENTS', 'SABTN', 'SADBHAV', 'SADBHIN', 'SAFARI', 'SAGARDEEP', 'SAGCEM', 'SAIL', 'SAKAR', 'SAKHTISUG', 'SAKSOFT', 'SAKUMA', 'SALASAR', 'SALONA', 'SALSTEEL', 'SALZERELEC', 'SAMBHAAV', 'SANCO', 'SANDESH', 'SANDHAR', 'SANGAMIND', 'SANGHIIND', 'SANGHVIFOR', 'SANGHVIMOV', 'SANGINITA', 'SANOFI', 'SANWARIA', 'SARDAEN', 'SAREGAMA', 'SARLAPOLY', 'SASKEN', 'SASTASUNDR', 'SATHAISPAT', 'SATIA', 'SATIN', 'SBILIFE', 'SBIN', 'SCAPDVR', 'SCHAEFFLER', 'SCHAND', 'SCHNEIDER', 'SCI', 'SDBL', 'SEAMECLTD', 'SELAN', 'SELMCL', 'SEPOWER', 'SEQUENT', 'SESHAPAPER', 'SETCO', 'SETUINFRA', 'SEYAIND', 'SEZAL', 'SFL', 'SGL', 'SHAHALLOYS', 'SHAKTIPUMP', 'SHALBY', 'SHALPAINTS', 'SHANKARA', 'SHANTIGEAR', 'SHARDACROP', 'SHARDAMOTR', 'SHEMAROO', 'SHILPAMED', 'SHIRPUR-G', 'SHIVAMAUTO', 'SHIVAMILLS', 'SHIVATEX', 'SHK', 'SHOPERSTOP', 'SHREDIGCEM', 'SHREECEM', 'SHREEPUSHK', 'SHREERAMA', 'SHRENIK', 'SHREYANIND', 'SHREYAS', 'SHRIPISTON', 'SHRIRAMCIT', 'SHRIRAMEPC', 'SHYAMCENT', 'SHYAMTEL', 'SICAGEN', 'SICAL', 'SIEMENS', 'SIGIND', 'SIL', 'SILINV', 'SIMBHALS', 'SIMPLEXINF', 'SINTEX', 'SIRCA', 'SIS', 'SITINET', 'SIYSIL', 'SJVN', 'SKFINDIA', 'SKIL', 'SKIPPER', 'SKMEGGPROD', 'SMARTLINK', 'SMLISUZU', 'SMPL', 'SMSLIFE', 'SMSPHARMA', 'SNOWMAN', 'SOBHA', 'SOLARA', 'SOLARINDS', 'SOMANYCERA', 'SOMATEX', 'SOMICONVEY', 'SONATSOFTW', 'SORILINFRA', 'SOTL', 'SOUTHBANK', 'SOUTHWEST', 'SPAL', 'SPANDANA', 'SPARC', 'SPCENET', 'SPECIALITY', 'SPENCERS', 'SPENTEX', 'SPIC', 'SPICEJET', 'SPLIL', 'SPMLINFRA', 'SPTL', 'SPYL', 'SREEL', 'SREINFRA', 'SRF', 'SRHHYPOLTD', 'SRIPIPES', 'SRTRANSFIN', 'SSWL', 'STAMPEDE', 'STAR', 'STARCEMENT', 'STARPAPER', 'STCINDIA', 'STEELCITY', 'STEELXIND', 'STEL', 'STERTOOLS', 'STINDIA', 'STRTECH', 'SUBCAPCITY', 'SUBEX', 'SUBROS', 'SUDARSCHEM', 'SUJANAUNI', 'SUMEETINDS', 'SUMIT', 'SUMMITSEC', 'SUNCLAYLTD', 'SUNDARAM', 'SUNDARMFIN', 'SUNDARMHLD', 'SUNDRMBRAK', 'SUNDRMFAST', 'SUNFLAG', 'SUNPHARMA', 'SUNTECK', 'SUNTV', 'SUPERHOUSE', 'SUPERSPIN', 'SUPPETRO', 'SUPRAJIT', 'SUPREMEIND', 'SUPREMEINF', 'SURANASOL', 'SURANAT&P', 'SURYALAXMI', 'SURYAROSNI', 'SUTLEJTEX', 'SUVEN', 'SUZLON', 'SWANENERGY', 'SWARAJENG', 'SWELECTES', 'SWSOLAR', 'SYMPHONY', 'SYNCOM', 'SYNDIBANK', 'SYNGENE', 'TAINWALCHM', 'TAJGVK', 'TAKE', 'TALBROAUTO', 'TALWALKARS', 'TALWGYM', 'TANLA', 'TANTIACONS', 'TARAPUR', 'TARMAT', 'TASTYBITE', 'TATACHEM', 'TATACOFFEE', 'TATACOMM', 'TATAELXSI', 'TATAGLOBAL', 'TATAINVEST', 'TATAMETALI', 'TATAMOTORS', 'TATAMTRDVR', 'TATAPOWER', 'TATASTEEL', 'TATASTLBSL', 'TATASTLLP', 'TBZ', 'TCI', 'TCIDEVELOP', 'TCIEXP', 'TCIFINANCE', 'TCNSBRANDS', 'TCPLPACK', 'TCS', 'TDPOWERSYS', 'TEAMLEASE', 'TECHIN', 'TECHM', 'TECHNOE', 'TECHNOFAB', 'TEJASNET', 'TERASOFT', 'TEXINFRA', 'TEXMOPIPES', 'TEXRAIL', 'TEXRAIL', 'TFCILTD', 'TFL', 'TGBHOTELS', 'TGBHOTELS', 'THANGAMAYL', 'THEINVEST', 'THEMISMED', 'THERMAX', 'THIRUSUGAR', 'THOMASCOOK', 'THOMASCOTT', 'THYROCARE', 'TI', 'TIDEWATER', 'TIIL', 'TIINDIA', 'TIJARIA', 'TIL', 'TIMESGTY', 'TIMETECHNO', 'TIMKEN', 'TINPLATE', 'TIPSINDLTD', 'TIRUMALCHM', 'TITAN', 'TMRVL', 'TNPETRO', 'TNPL', 'TNTELE', 'TOKYOPLAST', 'TORNTPHARM', 'TORNTPOWER', 'TPLPLASTEH', 'TREEHOUSE', 'TREJHARA', 'TRENT', 'TRF', 'TRIDENT', 'TRIGYN', 'TRIL', 'TRITURBINE', 'TRIVENI', 'TTKHLTCARE', 'TTKPRESTIG', 'TTL', 'TTML', 'TV18BRDCST', 'TVSELECT', 'TVSMOTOR', 'TVSSRICHAK', 'TVTODAY', 'TVVISION', 'TWL', 'UBL', 'UCALFUEL', 'UCOBANK', 'UFLEX', 'UFO', 'UGARSUGAR', 'UJAAS', 'UJJIVAN', 'ULTRACEMCO', 'UMANGDAIRY', 'UMESLTD', 'UNICHEMLAB', 'UNIENTER', 'UNIONBANK', 'UNIPLY', 'UNITECH', 'UNITEDBNK', 'UNITEDTEA', 'UNITY', 'UNIVCABLES', 'UPL', 'URJA', 'USHAMART', 'UTTAMSTL', 'UTTAMSUGAR', 'UVSL', 'V2RETAIL', 'VADILALIND', 'VAIBHAVGBL', 'VAKRANGEE', 'VARDHACRLC', 'VARDMNPOLY', 'VARROC', 'VASCONEQ', 'VASWANI', 'VBL', 'VEDL', 'VENKEYS', 'VENUSREM', 'VESUVIUS', 'VETO', 'VGUARD', 'VHL', 'VICEROY', 'VIDEOIND', 'VIDHIING', 'VIJIFIN', 'VIKASECO', 'VIKASMCORP', 'VIKASPROP', 'VIKASWSP', 'VIMALOIL', 'VIMTALABS', 'VINATIORGA', 'VINDHYATEL', 'VINYLINDIA', 'VIPCLOTHNG', 'VIPIND', 'VIPULLTD', 'VISAKAIND', 'VISASTEEL', 'VISESHINFO', 'VISHAL', 'VISHNU', 'VISHWARAJ', 'VIVIDHA', 'VIVIMEDLAB', 'VLSFINANCE', 'VMART', 'VOLTAMP', 'VOLTAS', 'VRLLOG', 'VSSL', 'VSTIND', 'VSTTILLERS', 'VTL', 'WABAG', 'WABCOINDIA', 'WALCHANNAG', 'WANBURY', 'WATERBASE', 'WEBELSOLAR', 'WEIZFOREX', 'WEIZMANIND', 'WELCORP', 'WELENT', 'WELINV', 'WELSPUNIND', 'WENDT', 'WESTLIFE', 'WHEELS', 'WHIRLPOOL', 'WILLAMAGOR', 'WINDMACHIN', 'WINSOME', 'WIPL', 'WIPRO', 'WOCKPHARMA', 'WONDERLA', 'WSI', 'WSTCSTPAPR', 'XCHANGING', 'XELPMOC', 'XLENERGY', 'XPROINDIA', 'YESBANK', 'ZEEL', 'ZEELEARN', 'ZEEMEDIA', 'ZENITHBIR', 'ZENITHEXPO', 'ZENSARTECH', 'ZENTEC', 'ZICOM', 'ZODIACLOTH', 'ZODJRDMKJ', 'ZOTA', 'ZUARI', 'ZUARIGLOB', 'ZYDUSWELL']\n",
      "['sbin', 'infy', 'asianpaint']\n"
     ]
    }
   ],
   "source": [
    "import bs4\n",
    "import requests\n",
    "from bs4 import BeautifulSoup\n",
    "import time\n",
    "import pandas as pd\n",
    "import numpy as np\n",
    "import warnings\n",
    "warnings.filterwarnings('ignore')\n",
    "tickers = pd.read_html('https://indiancompanies.in/listed-companies-in-nse-with-symbol/')[0]\n",
    "tickers.columns = tickers.iloc[0]\n",
    "tickers = tickers.iloc[1:,:]\n",
    "tickers = list(tickers.SYMBOL)\n",
    "print(tickers)\n",
    "#print(tickers)\n",
    "names = [x for x in input(\"enter the stock names\").split()]\n",
    "print(names)\n",
    "fundamentals = {}"
   ]
  },
  {
   "cell_type": "code",
   "execution_count": 2,
   "metadata": {},
   "outputs": [
    {
     "data": {
      "text/plain": [
       "200"
      ]
     },
     "execution_count": 2,
     "metadata": {},
     "output_type": "execute_result"
    }
   ],
   "source": [
    "ori = 'https://www.screener.in/'\n",
    "login_route = 'login/'\n",
    "header = {'User-Agent': 'Mozilla/5.0 (Windows NT 10.0; Win64; x64) AppleWebKit/537.36 (KHTML, like Gecko) Chrome/105.0.0.0 Safari/537.36' , 'origin':'https://www.screener.in', 'referer': '/login/','referrer-policy':'same-origin'}\n",
    "s=requests.session()\n",
    "csrf = s.get(ori+login_route).cookies['csrftoken']\n",
    "payload = {\n",
    "        'username': 'jainamjain1480@gmail.com',\n",
    "        'password': 'Ggaknrkr@123',\n",
    "        'csrfmiddlewaretoken': csrf\n",
    "    }\n",
    "login_req = s.post(ori+login_route,headers=header,data=payload)\n",
    "login_req.status_code"
   ]
  },
  {
   "cell_type": "code",
   "execution_count": 3,
   "metadata": {},
   "outputs": [],
   "source": [
    "soup_beforelogin = None\n",
    "soup_afterlogin =None\n",
    "def scrape(name):\n",
    "    req=requests.get('https://www.screener.in/company/{}/consolidated'.format(name.upper()))\n",
    "    soup_beforelogin = bs4.BeautifulSoup(req.text,'html')\n",
    "    def getcompany_id():\n",
    "        attr =soup_beforelogin.find('main', {'class': 'flex-grow container'}).find('div',{'id':'company-info'})\n",
    "        id =attr['data-warehouse-id']\n",
    "        print(id)\n",
    "        return id\n",
    "    # ori = 'https://www.screener.in/'\n",
    "    # login_route = 'login/'\n",
    "    # header = {'User-Agent': 'Mozilla/5.0 (Windows NT 10.0; Win64; x64) AppleWebKit/537.36 (KHTML, like Gecko) Chrome/105.0.0.0 Safari/537.36' , 'origin':'https://www.screener.in', 'referer': '/login/','referrer-policy':'same-origin'}\n",
    "\n",
    "    # s=requests.session()\n",
    "    # csrf = s.get(ori+login_route).cookies['csrftoken']\n",
    "\n",
    "    # payload = {\n",
    "    #     'username': 'jainamjain1480@gmail.com',\n",
    "    #     'password': 'Ggaknrkr@123',\n",
    "    #     'csrfmiddlewaretoken': csrf\n",
    "    # }\n",
    "\n",
    "    # login_req = s.post(ori+login_route,headers=header,data=payload)\n",
    "    #cookies = login_req.cookies\n",
    "    soup_afterlogin = BeautifulSoup(s.get(ori+'api/company/{}/quick_ratios/'.format(getcompany_id())).text,'html.parser')\n",
    "    #print(soup_afterlogin)\n",
    "    return soup_beforelogin, soup_afterlogin"
   ]
  },
  {
   "cell_type": "code",
   "execution_count": 4,
   "metadata": {},
   "outputs": [],
   "source": [
    "def get_fund(soup_beforelogin,soup_afterlogin):\n",
    "    for i in range(9):\n",
    "        if i==2 or i ==8:\n",
    "            continue\n",
    "        else:\n",
    "            name=soup_beforelogin.find_all('li',{'class': 'flex flex-space-between'})[i].find('span',{'class':'name'}).text\n",
    "            num=soup_beforelogin.find_all('li',{'class': 'flex flex-space-between'})[i].find('span',{'class':'number'}).text\n",
    "            if num =='':\n",
    "                fundamentals[name.strip()]=np.nan\n",
    "            else:\n",
    "                fundamentals[name.strip()]=float(num.replace(',',''))\n",
    "    for i in range(8):\n",
    "        name=soup_afterlogin.find_all('li',{'class': 'flex flex-space-between'})[i].find('span',{'class':'name'}).text\n",
    "        num=soup_afterlogin.find_all('li',{'class': 'flex flex-space-between'})[i].find('span',{'class':'number'}).text\n",
    "        if num == '':\n",
    "            fundamentals[name.strip()]=np.nan\n",
    "        else:\n",
    "            fundamentals[name.strip()]=float(num.replace(',',''))\n",
    "    return fundamentals\n",
    "#get_fund(soup_beforelogin,soup_afterlogin)"
   ]
  },
  {
   "cell_type": "code",
   "execution_count": 5,
   "metadata": {},
   "outputs": [],
   "source": [
    "def pl_n_years(soup, section_id, class_name, n):\n",
    "    section_html = soup.find('section',{'id': section_id})\n",
    "    table_html = section_html.find('table',{'class': class_name})\n",
    "\n",
    "    headers = []\n",
    "    for header in table_html.find_all('th'):\n",
    "        headers.append(  header.text or 'Type')\n",
    "\n",
    "    table_df = pd.DataFrame(columns = headers)\n",
    "\n",
    "    for row_ele in table_html.find_all('tr')[1:]:\n",
    "            row_data = row_ele.find_all('td')\n",
    "            row = [tr.text.strip() for tr in row_data]\n",
    "            length = len(table_df)\n",
    "            table_df.loc[length] = row \n",
    "    df = table_df[table_df['Type']=='Net Profit']\n",
    "    ls = df.iloc[:,-4:-1].values\n",
    "    return ls\n",
    "\n",
    "#print(pl_n_years(soup_beforelogin,'profit-loss','data-table responsive-text-nowrap',3))"
   ]
  },
  {
   "cell_type": "code",
   "execution_count": 6,
   "metadata": {},
   "outputs": [
    {
     "name": "stdout",
     "output_type": "stream",
     "text": [
      "6598877\n",
      "6596470\n",
      "6594812\n",
      "   Market Cap  Current Price  Stock P/E  Book Value  Dividend Yield   ROCE  \\\n",
      "0    500537.0          561.0       12.4       342.0            1.27   4.44   \n",
      "1    631385.0         1500.0       27.6       190.0            2.07  37.10   \n",
      "2    296622.0         3092.0       78.8       147.0            0.62  29.70   \n",
      "\n",
      "    ROE  Promoter holding  Debt to equity       Debt  High price  \\\n",
      "0  12.2              57.5           14.80  4536570.0       579.0   \n",
      "1  29.0              13.1            0.08     6522.0      1954.0   \n",
      "2  23.2              52.6            0.13     1866.0      3590.0   \n",
      "\n",
      "   Intrinsic Value  Low price   EPS  Price to book value  \n",
      "0            329.0      425.0  39.6                 1.64  \n",
      "1            833.0     1355.0  54.4                 7.89  \n",
      "2            643.0     2560.0  38.2                21.00  \n",
      "  3 years ago 2 year ago 1 year ago\n",
      "0      21,140     23,888     37,183\n",
      "1      16,639     19,423     22,146\n",
      "2       2,774      3,207      3,085\n"
     ]
    }
   ],
   "source": [
    "df =None\n",
    "pl_df = None\n",
    "for i in range(len(names)):\n",
    "    soup_beforelogin, soup_afterlogin = scrape(names[i])\n",
    "    dic = get_fund(soup_beforelogin, soup_afterlogin)\n",
    "    if i==0:\n",
    "        df = pd.DataFrame([dic])\n",
    "    else:\n",
    "        df.loc[len(df.index)] = dic\n",
    "    pl = pl_n_years(soup_beforelogin,'profit-loss','data-table responsive-text-nowrap',3)\n",
    "    if i == 0:\n",
    "        pl_df = pd.DataFrame(pl,columns=['3 years ago','2 year ago','1 year ago'])\n",
    "        #print(pl_df)\n",
    "    else:\n",
    "        pl = pl.flatten()\n",
    "        pl_df = pl_df.append(pd.Series(pl, index=pl_df.columns[:len(pl)]), ignore_index=True)\n",
    "        #print(pl_df)\n",
    "\n",
    "print(df ,pl_df, sep = '\\n')"
   ]
  },
  {
   "cell_type": "code",
   "execution_count": null,
   "metadata": {},
   "outputs": [],
   "source": [
    "soup_afterlogin.find_all('li',{'class': 'flex flex-space-between'})[0].find('span',{'class':'name'}).tex"
   ]
  },
  {
   "cell_type": "code",
   "execution_count": null,
   "metadata": {},
   "outputs": [],
   "source": [
    "df =None\n",
    "pl_df = None\n",
    "for i in range(len(names)):\n",
    "    soup_beforelogin, soup_afterlogin = scrape(names[i])\n",
    "    dic = get_fund(soup_beforelogin, soup_afterlogin)\n",
    "    if i==0:\n",
    "        df = pd.DataFrame([dic])\n",
    "    else:\n",
    "        df.loc[len(df)] = dic\n",
    "    pl = pl_n_years(soup_beforelogin,'profit-loss','data-table responsive-text-nowrap',3)\n",
    "    if i == 0:\n",
    "        pl_df = pd.DataFrame(pl,columns=['3 years ago','2 year ago','1 year ago'])\n",
    "        #print(pl_df)\n",
    "    else:\n",
    "        pl = pl.flatten()\n",
    "        pl_df = pl_df.append(pd.Series(pl, index=pl_df.columns[:len(pl)]), ignore_index=True)\n",
    "        #print(pl_df)\n",
    "\n",
    "display(df ,pl_df, sep = '\\n')"
   ]
  },
  {
   "cell_type": "code",
   "execution_count": 7,
   "metadata": {},
   "outputs": [
    {
     "ename": "",
     "evalue": "",
     "output_type": "error",
     "traceback": [
      "\u001b[1;31mCanceled future for execute_request message before replies were done"
     ]
    },
    {
     "ename": "",
     "evalue": "",
     "output_type": "error",
     "traceback": [
      "The Kernel crashed while executing code in the the current cell or a previous cell. Please review the code in the cell(s) to identify a possible cause of the failure. Click <a href='https://aka.ms/vscodeJupyterKernelCrash'>here</a> for more info. View Jupyter <a href='command:jupyter.viewOutput'>log</a> for further details."
     ]
    }
   ],
   "source": [
    "!pip install git+https://github.com/alvarobartt/investpy.git@master"
   ]
  },
  {
   "cell_type": "code",
   "execution_count": 14,
   "metadata": {},
   "outputs": [
    {
     "ename": "ConnectionError",
     "evalue": "ERR#0015: error 403, try again later.",
     "output_type": "error",
     "traceback": [
      "\u001b[1;31m---------------------------------------------------------------------------\u001b[0m",
      "\u001b[1;31mConnectionError\u001b[0m                           Traceback (most recent call last)",
      "Cell \u001b[1;32mIn [14], line 2\u001b[0m\n\u001b[0;32m      1\u001b[0m \u001b[38;5;28;01mimport\u001b[39;00m \u001b[38;5;21;01minvestpy\u001b[39;00m \n\u001b[1;32m----> 2\u001b[0m search_result \u001b[38;5;241m=\u001b[39m \u001b[43minvestpy\u001b[49m\u001b[38;5;241;43m.\u001b[39;49m\u001b[43msearch_quotes\u001b[49m\u001b[43m(\u001b[49m\u001b[43mtext\u001b[49m\u001b[38;5;241;43m=\u001b[39;49m\u001b[38;5;124;43m'\u001b[39;49m\u001b[38;5;124;43mapple\u001b[39;49m\u001b[38;5;124;43m'\u001b[39;49m\u001b[43m,\u001b[49m\u001b[43m \u001b[49m\u001b[43mproducts\u001b[49m\u001b[38;5;241;43m=\u001b[39;49m\u001b[43m[\u001b[49m\u001b[38;5;124;43m'\u001b[39;49m\u001b[38;5;124;43mstocks\u001b[39;49m\u001b[38;5;124;43m'\u001b[39;49m\u001b[43m]\u001b[49m\u001b[43m,\u001b[49m\n\u001b[0;32m      3\u001b[0m \u001b[43m                                       \u001b[49m\u001b[43mcountries\u001b[49m\u001b[38;5;241;43m=\u001b[39;49m\u001b[43m[\u001b[49m\u001b[38;5;124;43m'\u001b[39;49m\u001b[38;5;124;43munited states\u001b[39;49m\u001b[38;5;124;43m'\u001b[39;49m\u001b[43m]\u001b[49m\u001b[43m,\u001b[49m\u001b[43m \u001b[49m\u001b[43mn_results\u001b[49m\u001b[38;5;241;43m=\u001b[39;49m\u001b[38;5;241;43m1\u001b[39;49m\u001b[43m)\u001b[49m\n\u001b[0;32m      4\u001b[0m recent_data \u001b[38;5;241m=\u001b[39m search_result\u001b[38;5;241m.\u001b[39mretrieve_recent_data()\n\u001b[0;32m      5\u001b[0m historical_data \u001b[38;5;241m=\u001b[39m search_result\u001b[38;5;241m.\u001b[39mretrieve_historical_data(from_date\u001b[38;5;241m=\u001b[39m\u001b[38;5;124m'\u001b[39m\u001b[38;5;124m01/01/2019\u001b[39m\u001b[38;5;124m'\u001b[39m, to_date\u001b[38;5;241m=\u001b[39m\u001b[38;5;124m'\u001b[39m\u001b[38;5;124m01/01/2020\u001b[39m\u001b[38;5;124m'\u001b[39m)\n",
      "File \u001b[1;32mc:\\Users\\DELL\\AppData\\Local\\Programs\\Python\\Python38\\lib\\site-packages\\investpy\\search.py:160\u001b[0m, in \u001b[0;36msearch_quotes\u001b[1;34m(text, products, countries, n_results)\u001b[0m\n\u001b[0;32m    157\u001b[0m req \u001b[39m=\u001b[39m requests\u001b[39m.\u001b[39mpost(url, headers\u001b[39m=\u001b[39mheaders, data\u001b[39m=\u001b[39mparams)\n\u001b[0;32m    159\u001b[0m \u001b[39mif\u001b[39;00m req\u001b[39m.\u001b[39mstatus_code \u001b[39m!=\u001b[39m \u001b[39m200\u001b[39m:\n\u001b[1;32m--> 160\u001b[0m     \u001b[39mraise\u001b[39;00m \u001b[39mConnectionError\u001b[39;00m(\n\u001b[0;32m    161\u001b[0m         \u001b[39mf\u001b[39m\u001b[39m\"\u001b[39m\u001b[39mERR#0015: error \u001b[39m\u001b[39m{\u001b[39;00mreq\u001b[39m.\u001b[39mstatus_code\u001b[39m}\u001b[39;00m\u001b[39m, try again later.\u001b[39m\u001b[39m\"\u001b[39m\n\u001b[0;32m    162\u001b[0m     )\n\u001b[0;32m    164\u001b[0m data \u001b[39m=\u001b[39m req\u001b[39m.\u001b[39mjson()\n\u001b[0;32m    166\u001b[0m \u001b[39mif\u001b[39;00m data[\u001b[39m\"\u001b[39m\u001b[39mtotal\u001b[39m\u001b[39m\"\u001b[39m][\u001b[39m\"\u001b[39m\u001b[39mquotes\u001b[39m\u001b[39m\"\u001b[39m] \u001b[39m==\u001b[39m \u001b[39m0\u001b[39m:\n",
      "\u001b[1;31mConnectionError\u001b[0m: ERR#0015: error 403, try again later."
     ]
    }
   ],
   "source": [
    "# import investpy \n",
    "# search_result = investpy.search_quotes(text='apple', products=['stocks'],\n",
    "#                                        countries=['united states'], n_results=1)\n",
    "# recent_data = search_result.retrieve_recent_data()\n",
    "# historical_data = search_result.retrieve_historical_data(from_date='01/01/2019', to_date='01/01/2020')\n",
    "# information = search_result.retrieve_information()\n",
    "# default_currency = search_result.retrieve_currency()\n",
    "# technical_indicators = search_result.retrieve_technical_indicators(interval='daily')"
   ]
  },
  {
   "cell_type": "code",
   "execution_count": null,
   "metadata": {},
   "outputs": [],
   "source": [
    "'''\n",
    "web scrape to login into a website\n",
    "url = 'https://www.screener.in/login'\n",
    "Head = {'referer' : 'https://www.screener.in/login/?','referrer-policy':'same-origin'}\n",
    "payload = {\n",
    "    'username': 'jainamjain1480@gmail.com',\n",
    "    'password': 'Ggaknrkr@123'\n",
    "}\n",
    "with requests.session() as s:\n",
    "    r = s.post(url,data = payload,headers=Head)\n",
    "    print(r.status_code)'''"
   ]
  },
  {
   "cell_type": "code",
   "execution_count": 4,
   "metadata": {},
   "outputs": [
    {
     "name": "stdout",
     "output_type": "stream",
     "text": [
      "yes\n"
     ]
    }
   ],
   "source": [
    "a =['SBIN','RENUKA','INFY']\n",
    "b= 'SBIN'\n",
    "if b in a:\n",
    "    print('yes')"
   ]
  }
 ],
 "metadata": {
  "kernelspec": {
   "display_name": "Python 3.8.0 64-bit",
   "language": "python",
   "name": "python3"
  },
  "language_info": {
   "codemirror_mode": {
    "name": "ipython",
    "version": 3
   },
   "file_extension": ".py",
   "mimetype": "text/x-python",
   "name": "python",
   "nbconvert_exporter": "python",
   "pygments_lexer": "ipython3",
   "version": "3.8.0"
  },
  "orig_nbformat": 4,
  "vscode": {
   "interpreter": {
    "hash": "494deeb4eea7fb63b62f74ba02ace728543e0003fbb675bfec79f4f4980c3f04"
   }
  }
 },
 "nbformat": 4,
 "nbformat_minor": 2
}
